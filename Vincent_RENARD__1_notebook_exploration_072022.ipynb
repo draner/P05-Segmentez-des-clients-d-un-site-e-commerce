{
  "nbformat": 4,
  "nbformat_minor": 0,
  "metadata": {
    "colab": {
      "name": "Vincent_RENARD__1_notebook_exploration_072022.ipynb",
      "provenance": [],
      "authorship_tag": "ABX9TyOc0eZQChYSIE+ewBxOKB4M",
      "include_colab_link": true
    },
    "kernelspec": {
      "name": "python3",
      "display_name": "Python 3"
    },
    "language_info": {
      "name": "python"
    }
  },
  "cells": [
    {
      "cell_type": "markdown",
      "metadata": {
        "id": "view-in-github",
        "colab_type": "text"
      },
      "source": [
        "<a href=\"https://colab.research.google.com/github/draner/P05-Segmentez-des-clients-d-un-site-e-commerce/blob/main/Vincent_RENARD__1_notebook_exploration_072022.ipynb\" target=\"_parent\"><img src=\"https://colab.research.google.com/assets/colab-badge.svg\" alt=\"Open In Colab\"/></a>"
      ]
    },
    {
      "cell_type": "code",
      "execution_count": null,
      "metadata": {
        "id": "e9vIHsvlk_j1"
      },
      "outputs": [],
      "source": [
        "import pandas as pd"
      ]
    }
  ]
}